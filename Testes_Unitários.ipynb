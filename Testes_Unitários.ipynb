{
  "nbformat": 4,
  "nbformat_minor": 0,
  "metadata": {
    "colab": {
      "provenance": []
    },
    "kernelspec": {
      "name": "python3",
      "display_name": "Python 3"
    },
    "language_info": {
      "name": "python"
    }
  },
  "cells": [
    {
      "cell_type": "code",
      "execution_count": 2,
      "metadata": {
        "colab": {
          "base_uri": "https://localhost:8080/"
        },
        "id": "-9MdGTJS_dJH",
        "outputId": "683a2645-65b7-4b45-9457-70d57c9cadb4"
      },
      "outputs": [
        {
          "output_type": "stream",
          "name": "stdout",
          "text": [
            "Requirement already satisfied: pytest in /usr/local/lib/python3.12/dist-packages (8.4.2)\n",
            "Requirement already satisfied: iniconfig>=1 in /usr/local/lib/python3.12/dist-packages (from pytest) (2.1.0)\n",
            "Requirement already satisfied: packaging>=20 in /usr/local/lib/python3.12/dist-packages (from pytest) (25.0)\n",
            "Requirement already satisfied: pluggy<2,>=1.5 in /usr/local/lib/python3.12/dist-packages (from pytest) (1.6.0)\n",
            "Requirement already satisfied: pygments>=2.7.2 in /usr/local/lib/python3.12/dist-packages (from pytest) (2.19.2)\n"
          ]
        }
      ],
      "source": [
        "# ---------------------------\n",
        "# 1) Instalar dependências\n",
        "# ---------------------------\n",
        "!pip install pytest"
      ]
    },
    {
      "cell_type": "code",
      "source": [
        "# ---------------------------\n",
        "# 2) Criar funções de exemplo\n",
        "# ---------------------------\n",
        "with open(\"example_functions.py\", \"w\") as f:\n",
        "    f.write(\"\"\"\n",
        "def soma(a, b):\n",
        "    return a + b\n",
        "\n",
        "def subtracao(a, b):\n",
        "    return a - b\n",
        "\"\"\")\n",
        "print(\"Arquivo example_functions.py criado com sucesso!\")"
      ],
      "metadata": {
        "colab": {
          "base_uri": "https://localhost:8080/"
        },
        "id": "FYE1s2AJ_tiC",
        "outputId": "57be3e59-20a4-4c50-df3a-9395b880f10b"
      },
      "execution_count": 7,
      "outputs": [
        {
          "output_type": "stream",
          "name": "stdout",
          "text": [
            "Arquivo example_functions.py criado com sucesso!\n"
          ]
        }
      ]
    },
    {
      "cell_type": "code",
      "source": [
        "# ---------------------------\n",
        "# 3) Agente para gerar testes\n",
        "# ---------------------------\n",
        "def gerar_testes():\n",
        "    # Gerar arquivo de testes com import do arquivo de funções\n",
        "    testes = \"import pytest\\nfrom example_functions import *\\n\\n\"\n",
        "\n",
        "    # Testes para soma\n",
        "    testes += \"\"\"\n",
        "def test_soma_sucesso():\n",
        "    assert soma(2, 3) == 5\n",
        "\n",
        "def test_soma_falha():\n",
        "    assert soma(2, 2) != 5\n",
        "\"\"\"\n",
        "\n",
        "    # Testes para subtracao\n",
        "    testes += \"\"\"\n",
        "def test_subtracao_sucesso():\n",
        "    assert subtracao(5, 3) == 2\n",
        "\n",
        "def test_subtracao_falha():\n",
        "    assert subtracao(5, 5) != 2\n",
        "\"\"\"\n",
        "\n",
        "    # Criar arquivo de testes\n",
        "    with open(\"test_example_functions.py\", \"w\") as f:\n",
        "        f.write(testes)\n",
        "\n",
        "    print(\"Arquivo test_example_functions.py gerado com sucesso!\")\n",
        "\n",
        "# Executar o agente\n",
        "gerar_testes()"
      ],
      "metadata": {
        "colab": {
          "base_uri": "https://localhost:8080/"
        },
        "id": "zxGCBbBfAARg",
        "outputId": "15afe8c0-34f3-4499-b0bd-c9deabe17daf"
      },
      "execution_count": 8,
      "outputs": [
        {
          "output_type": "stream",
          "name": "stdout",
          "text": [
            "Arquivo test_example_functions.py gerado com sucesso!\n"
          ]
        }
      ]
    },
    {
      "cell_type": "code",
      "source": [
        "# ---------------------------\n",
        "# 4) Rodar os testes\n",
        "# ---------------------------\n",
        "!pytest test_example_functions.py"
      ],
      "metadata": {
        "colab": {
          "base_uri": "https://localhost:8080/"
        },
        "id": "VqVT2y5MAVPo",
        "outputId": "20486065-9c43-44dd-a448-5f3ecf63a148"
      },
      "execution_count": 9,
      "outputs": [
        {
          "output_type": "stream",
          "name": "stdout",
          "text": [
            "\u001b[1m============================= test session starts ==============================\u001b[0m\n",
            "platform linux -- Python 3.12.11, pytest-8.4.2, pluggy-1.6.0\n",
            "rootdir: /content\n",
            "plugins: typeguard-4.4.4, langsmith-0.4.27, anyio-4.10.0\n",
            "\u001b[1mcollecting ... \u001b[0m\u001b[1m\rcollected 4 items                                                              \u001b[0m\n",
            "\n",
            "test_example_functions.py \u001b[32m.\u001b[0m\u001b[32m.\u001b[0m\u001b[32m.\u001b[0m\u001b[32m.\u001b[0m\u001b[32m                                           [100%]\u001b[0m\n",
            "\n",
            "\u001b[32m============================== \u001b[32m\u001b[1m4 passed\u001b[0m\u001b[32m in 0.02s\u001b[0m\u001b[32m ===============================\u001b[0m\n"
          ]
        }
      ]
    }
  ]
}